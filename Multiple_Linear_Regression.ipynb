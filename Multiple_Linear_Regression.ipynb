{
  "nbformat": 4,
  "nbformat_minor": 0,
  "metadata": {
    "colab": {
      "name": "Multiple Linear Regression.ipynb",
      "provenance": [],
      "mount_file_id": "1fzyl8FbT8jTnsrPSqDFR0xr45SokeTXe",
      "authorship_tag": "ABX9TyOctoXuVfRM6IryY6Ov3Z66",
      "include_colab_link": true
    },
    "kernelspec": {
      "name": "python3",
      "display_name": "Python 3"
    },
    "language_info": {
      "name": "python"
    }
  },
  "cells": [
    {
      "cell_type": "markdown",
      "metadata": {
        "id": "view-in-github",
        "colab_type": "text"
      },
      "source": [
        "<a href=\"https://colab.research.google.com/github/anursen/Regression_Models/blob/main/Multiple_Linear_Regression.ipynb\" target=\"_parent\"><img src=\"https://colab.research.google.com/assets/colab-badge.svg\" alt=\"Open In Colab\"/></a>"
      ]
    },
    {
      "cell_type": "markdown",
      "source": [
        "#Multiple Linear Regression\n"
      ],
      "metadata": {
        "id": "uTwRFGsejvnx"
      }
    },
    {
      "cell_type": "markdown",
      "source": [
        "#Unimportant self notes.\n"
      ],
      "metadata": {
        "id": "TyDp38mquXZZ"
      }
    },
    {
      "cell_type": "markdown",
      "source": [
        "P Value\n",
        "Statiscal Significance\n",
        "\n",
        "H0: this is a fair coin.\n",
        "H1: this is not a fair coin.\n",
        "We will assume that H0 is correct.\n",
        "Under the significiance value (mostly 0.05) we accept H0 Which means this is a fair coin. İf its less than %5 likely to occur we can say this is an unfair coin\n",
        "To choose the best regression model."
      ],
      "metadata": {
        "id": "a9s33DcCrkLa"
      }
    },
    {
      "cell_type": "markdown",
      "source": [
        "Dummy Variable Trap\n",
        "\n",
        "You need to always omit one variable when creating dummy variables. if you have 100 kind of categorical data you need to create 99 dummy variable columns.\n",
        "\n",
        "By the way scikitlearn lbirary automatically deal with that problem."
      ],
      "metadata": {
        "id": "Lgp7sQe6roLs"
      }
    },
    {
      "cell_type": "markdown",
      "source": [
        "#Importing the libraries\n"
      ],
      "metadata": {
        "id": "vDxuzv-Nj3Vc"
      }
    },
    {
      "cell_type": "code",
      "source": [
        "import pandas as pd\n",
        "import numpy as np"
      ],
      "metadata": {
        "id": "7HeEb0XKku-N"
      },
      "execution_count": 49,
      "outputs": []
    },
    {
      "cell_type": "markdown",
      "source": [
        "#Importing the dataset\n"
      ],
      "metadata": {
        "id": "Ga-WLncSj5xs"
      }
    },
    {
      "cell_type": "code",
      "source": [
        "path ='/content/drive/MyDrive/Colab Datas/Github/Mult_linear_regression/50_Startups.csv'\n",
        "df = pd.read_csv(path)"
      ],
      "metadata": {
        "id": "KtWe-1lRk23y"
      },
      "execution_count": 50,
      "outputs": []
    },
    {
      "cell_type": "code",
      "source": [
        "df.isna().sum()"
      ],
      "metadata": {
        "colab": {
          "base_uri": "https://localhost:8080/"
        },
        "id": "8iTRzHGilJlH",
        "outputId": "e0a5b048-c01c-4d16-fdba-daeb16179814"
      },
      "execution_count": 51,
      "outputs": [
        {
          "output_type": "execute_result",
          "data": {
            "text/plain": [
              "R&D Spend          0\n",
              "Administration     0\n",
              "Marketing Spend    0\n",
              "State              0\n",
              "Profit             0\n",
              "dtype: int64"
            ]
          },
          "metadata": {},
          "execution_count": 51
        }
      ]
    },
    {
      "cell_type": "code",
      "source": [
        "df.info()"
      ],
      "metadata": {
        "colab": {
          "base_uri": "https://localhost:8080/"
        },
        "id": "BuQZwJcYlbJ4",
        "outputId": "dca84451-ec08-4c1a-d212-c7a029b501a2"
      },
      "execution_count": 52,
      "outputs": [
        {
          "output_type": "stream",
          "name": "stdout",
          "text": [
            "<class 'pandas.core.frame.DataFrame'>\n",
            "RangeIndex: 50 entries, 0 to 49\n",
            "Data columns (total 5 columns):\n",
            " #   Column           Non-Null Count  Dtype  \n",
            "---  ------           --------------  -----  \n",
            " 0   R&D Spend        50 non-null     float64\n",
            " 1   Administration   50 non-null     float64\n",
            " 2   Marketing Spend  50 non-null     float64\n",
            " 3   State            50 non-null     object \n",
            " 4   Profit           50 non-null     float64\n",
            "dtypes: float64(4), object(1)\n",
            "memory usage: 2.1+ KB\n"
          ]
        }
      ]
    },
    {
      "cell_type": "code",
      "source": [
        "X = df.iloc[:,:-1].to_numpy()\n",
        "y = df.iloc[:,-1:].to_numpy()"
      ],
      "metadata": {
        "id": "MgD9izP7lIkK"
      },
      "execution_count": 53,
      "outputs": []
    },
    {
      "cell_type": "markdown",
      "source": [
        "#Encoding categorical data\n"
      ],
      "metadata": {
        "id": "VB5o_3SCj7oV"
      }
    },
    {
      "cell_type": "code",
      "source": [
        "from sklearn.preprocessing import OneHotEncoder\n",
        "from sklearn.compose import ColumnTransformer\n",
        "encoder = OneHotEncoder()\n",
        "ct = ColumnTransformer( transformers=[(\"encoder\", OneHotEncoder(),[3])],remainder='passthrough')\n",
        "X = np.array(ct.fit_transform(X))"
      ],
      "metadata": {
        "id": "5ySEodl-lRJm"
      },
      "execution_count": 54,
      "outputs": []
    },
    {
      "cell_type": "markdown",
      "source": [
        "#Splitting the dataset into the Training set and Test set\n"
      ],
      "metadata": {
        "id": "t8vimp4Jj9Qx"
      }
    },
    {
      "cell_type": "code",
      "source": [
        "from sklearn.model_selection import train_test_split"
      ],
      "metadata": {
        "id": "PRPAcHw4n6wv"
      },
      "execution_count": 56,
      "outputs": []
    },
    {
      "cell_type": "code",
      "source": [
        "X_train, X_test, y_train, y_test = train_test_split(X, y, test_size=0.33, random_state=42)"
      ],
      "metadata": {
        "id": "pDFcXZt9lRpL"
      },
      "execution_count": 57,
      "outputs": []
    },
    {
      "cell_type": "markdown",
      "source": [
        "#Training the Multiple Linear Regression model on the Training set\n"
      ],
      "metadata": {
        "id": "4a00gHVFj_MT"
      }
    },
    {
      "cell_type": "code",
      "source": [
        "from sklearn.linear_model import LinearRegression\n",
        "regressor = LinearRegression()\n",
        "regressor.fit(X_train,y_train)"
      ],
      "metadata": {
        "colab": {
          "base_uri": "https://localhost:8080/"
        },
        "id": "PvKBnZGxlSAI",
        "outputId": "04e3a6db-f431-467f-c966-0751b907fbe9"
      },
      "execution_count": 60,
      "outputs": [
        {
          "output_type": "execute_result",
          "data": {
            "text/plain": [
              "LinearRegression()"
            ]
          },
          "metadata": {},
          "execution_count": 60
        }
      ]
    },
    {
      "cell_type": "code",
      "source": [
        "regressor.score(X_test,y_test)"
      ],
      "metadata": {
        "colab": {
          "base_uri": "https://localhost:8080/"
        },
        "id": "a1flxelyoaAy",
        "outputId": "dad72533-5234-41a5-da80-3cf67b049a26"
      },
      "execution_count": 64,
      "outputs": [
        {
          "output_type": "execute_result",
          "data": {
            "text/plain": [
              "0.9475312056915458"
            ]
          },
          "metadata": {},
          "execution_count": 64
        }
      ]
    },
    {
      "cell_type": "markdown",
      "source": [
        "#Predicting the Test set results"
      ],
      "metadata": {
        "id": "N13tCF-1kBAk"
      }
    },
    {
      "cell_type": "code",
      "source": [
        "yhat = regressor.predict(X_test)\n",
        "results = np.concatenate((y_test,yhat))"
      ],
      "metadata": {
        "id": "-ulXru-HlSkJ"
      },
      "execution_count": 86,
      "outputs": []
    },
    {
      "cell_type": "code",
      "source": [
        "results = np.concatenate((yhat,y_test),axis=1)"
      ],
      "metadata": {
        "id": "wqAL7Fn2qMTf"
      },
      "execution_count": 89,
      "outputs": []
    },
    {
      "cell_type": "code",
      "source": [
        "np.set_printoptions(precision=2)\n",
        "results"
      ],
      "metadata": {
        "colab": {
          "base_uri": "https://localhost:8080/"
        },
        "id": "tAoO6fVBqT6e",
        "outputId": "aa20d4a2-8318-4416-9d89-ee098e0a3368"
      },
      "execution_count": 90,
      "outputs": [
        {
          "output_type": "execute_result",
          "data": {
            "text/plain": [
              "array([[126187.36, 134307.35],\n",
              "       [ 85719.46,  81005.76],\n",
              "       [ 99648.03,  99937.59],\n",
              "       [ 45664.96,  64926.08],\n",
              "       [127106.84, 125370.37],\n",
              "       [ 51752.87,  35673.41],\n",
              "       [109033.36, 105733.54],\n",
              "       [100575.61, 107404.34],\n",
              "       [ 97877.86,  97427.84],\n",
              "       [111674.71, 122776.86],\n",
              "       [128750.99, 141585.52],\n",
              "       [174097.6 , 166187.94],\n",
              "       [ 93630.  ,  89949.14],\n",
              "       [148426.42, 152211.77],\n",
              "       [172333.63, 182901.99],\n",
              "       [155858.61, 156122.51],\n",
              "       [ 77089.61,  77798.83]])"
            ]
          },
          "metadata": {},
          "execution_count": 90
        }
      ]
    }
  ]
}